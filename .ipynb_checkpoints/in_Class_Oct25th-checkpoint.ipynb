{
 "cells": [
  {
   "cell_type": "code",
   "execution_count": 2,
   "metadata": {},
   "outputs": [
    {
     "name": "stdout",
     "output_type": "stream",
     "text": [
      "5\n"
     ]
    }
   ],
   "source": [
    "# this script will cover the most computationally efficient\n",
    "# method for fast-powering\n",
    "\n",
    "def fast_power(g, A, N):\n",
    "    a = g\n",
    "    b = 1\n",
    "    while A > 0:\n",
    "        if A % 2 == 1:\n",
    "            b = (b*a)% N\n",
    "            a = (a**2) % N\n",
    "        A //= 2\n",
    "\n",
    "    return b\n",
    "\n",
    "\n",
    "print(fast_power(7, 12, 13))\n"
   ]
  },
  {
   "cell_type": "code",
   "execution_count": null,
   "metadata": {},
   "outputs": [],
   "source": [
    "%%time\n",
    "\n",
    "for num in range(27077):\n",
    "    remainder = 0\n",
    "    if 7814 ** num % 27077 == 5386:\n",
    "        print(num)\n",
    "        break\n",
    "    "
   ]
  },
  {
   "cell_type": "code",
   "execution_count": null,
   "metadata": {
    "collapsed": true
   },
   "outputs": [],
   "source": [
    "26714**666%27077\n"
   ]
  },
  {
   "cell_type": "code",
   "execution_count": null,
   "metadata": {
    "collapsed": true
   },
   "outputs": [],
   "source": []
  }
 ],
 "metadata": {
  "kernelspec": {
   "display_name": "Python 3",
   "language": "python",
   "name": "python3"
  },
  "language_info": {
   "codemirror_mode": {
    "name": "ipython",
    "version": 3
   },
   "file_extension": ".py",
   "mimetype": "text/x-python",
   "name": "python",
   "nbconvert_exporter": "python",
   "pygments_lexer": "ipython3",
   "version": "3.6.2"
  }
 },
 "nbformat": 4,
 "nbformat_minor": 2
}
