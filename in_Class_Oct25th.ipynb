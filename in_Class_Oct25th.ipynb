{
 "cells": [
  {
   "cell_type": "code",
   "execution_count": 1,
   "metadata": {},
   "outputs": [
    {
     "name": "stdout",
     "output_type": "stream",
     "text": [
      "5\n"
     ]
    }
   ],
   "source": [
    "# this script will cover the most computationally efficient\n",
    "# method for fast-powering\n",
    "\n",
    "def fast_power(g, A, N):\n",
    "    a = g\n",
    "    b = 1\n",
    "    while A > 0:\n",
    "        if A % 2 == 1:\n",
    "            b = (b*a)% N\n",
    "            a = (a**2) % N\n",
    "        A //= 2\n",
    "\n",
    "    return b\n",
    "\n",
    "\n",
    "print(fast_power(7, 12, 13))\n"
   ]
  },
  {
   "cell_type": "code",
   "execution_count": 12,
   "metadata": {},
   "outputs": [
    {
     "name": "stdout",
     "output_type": "stream",
     "text": [
      "3333\n",
      "Wall time: 344 ms\n"
     ]
    }
   ],
   "source": [
    "%%time\n",
    "\n",
    "def brute_force(g, p , A, b):\n",
    "    B = g ** b % p\n",
    "\n",
    "    g_ab = A ** b % p\n",
    "    for num in range(p):\n",
    "        if B ** num % p == g_ab:\n",
    "            print(num)\n",
    "            break\n",
    "\n",
    "g = 7814\n",
    "p = 27077\n",
    "\n",
    "A = 26714\n",
    "b = 666\n",
    "brute_force(g, p, A, b)"
   ]
  },
  {
   "cell_type": "code",
   "execution_count": 13,
   "metadata": {},
   "outputs": [
    {
     "name": "stdout",
     "output_type": "stream",
     "text": [
      "2169\n",
      "Key:  44867\n"
     ]
    }
   ],
   "source": [
    "print(666**666%71777)\n",
    "print(\"Key: \", 25297 ** 666 % 71777)"
   ]
  },
  {
   "cell_type": "code",
   "execution_count": 8,
   "metadata": {},
   "outputs": [
    {
     "name": "stdout",
     "output_type": "stream",
     "text": [
      "11623\n"
     ]
    }
   ],
   "source": [
    "print(fast_power(666, 2169, 71777))\n"
   ]
  }
 ],
 "metadata": {
  "kernelspec": {
   "display_name": "Python 3",
   "language": "python",
   "name": "python3"
  },
  "language_info": {
   "codemirror_mode": {
    "name": "ipython",
    "version": 3
   },
   "file_extension": ".py",
   "mimetype": "text/x-python",
   "name": "python",
   "nbconvert_exporter": "python",
   "pygments_lexer": "ipython3",
   "version": "3.6.2"
  }
 },
 "nbformat": 4,
 "nbformat_minor": 2
}
